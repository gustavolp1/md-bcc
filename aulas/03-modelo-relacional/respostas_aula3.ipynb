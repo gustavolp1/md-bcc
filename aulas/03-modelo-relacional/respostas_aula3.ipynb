{
 "cells": [
  {
   "cell_type": "markdown",
   "metadata": {},
   "source": [
    "# Aula 3"
   ]
  },
  {
   "cell_type": "markdown",
   "metadata": {},
   "source": [
    "### Escreva os esquemas de relação para as seguintes situações:"
   ]
  },
  {
   "cell_type": "markdown",
   "metadata": {},
   "source": [
    "##### 1. Bicho de estimação"
   ]
  },
  {
   "cell_type": "markdown",
   "metadata": {},
   "source": [
    "| Nome do bicho | Idade do bicho | Nome do dono | Espécie do bicho | Raça do bicho |\n",
    "|---------------|----------------|--------------|------------------|---------------|\n",
    "| Toddy         | 3              | João         | Cachorro         | Poodle        | "
   ]
  },
  {
   "cell_type": "markdown",
   "metadata": {},
   "source": [
    "##### 2. Alunos do curso"
   ]
  },
  {
   "cell_type": "markdown",
   "metadata": {},
   "source": [
    "| Nome | Idade | Sexo | ID | Semestre |\n",
    "|------|-------|------|----|----------|\n",
    "| João | 20    | M    | 123| 3        |"
   ]
  },
  {
   "cell_type": "markdown",
   "metadata": {},
   "source": [
    "##### 3. Cardápio do restaurante"
   ]
  },
  {
   "cell_type": "markdown",
   "metadata": {},
   "source": [
    "| Prato | Preço em reais | Quantas pessoas serve | Restrições alimentares |\n",
    "|-------|-------|-----------------------|------------------------|\n",
    "| Lasanha | 60 | 2 | Nenhuma |"
   ]
  },
  {
   "cell_type": "markdown",
   "metadata": {},
   "source": [
    "### Pense em um par de entidades que se relacionam. Indique as chaves primárias e estrangeiras."
   ]
  },
  {
   "cell_type": "markdown",
   "metadata": {},
   "source": [
    "No caso de uma base de dados de uma loja: podemos ter as entidades de `cliente` e `compra`. A chave primária da entidade `cliente` seria o `ID` e a chave primária da entidade `compra` seria o `ID` da compra. A chave estrangeira da entidade `compra` seria o `ID` do cliente."
   ]
  }
 ],
 "metadata": {
  "language_info": {
   "name": "python"
  }
 },
 "nbformat": 4,
 "nbformat_minor": 2
}
